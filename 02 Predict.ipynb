{
 "cells": [
  {
   "cell_type": "code",
   "execution_count": 1,
   "metadata": {},
   "outputs": [],
   "source": [
    "%run ./'01 load.ipynb'"
   ]
  },
  {
   "cell_type": "code",
   "execution_count": 2,
   "metadata": {},
   "outputs": [],
   "source": [
    "len_predictions = 15\n",
    "death_rate = 0.04014563012 # global as of 2020-03-18\n",
    "death_rate = 0.008 # luca\n",
    "start_date = '2020-02-20'\n",
    "len_before_start = len(df[(df['country'] == 'Germany') & (df['date'] < start_date)])\n",
    "len_after_start = len(df[(df['country'] == 'Germany') & (df['date'] >= start_date)])"
   ]
  },
  {
   "cell_type": "code",
   "execution_count": 3,
   "metadata": {},
   "outputs": [],
   "source": [
    "germany = df[df['country'] == 'Germany']\n",
    "dates_new = pd.date_range(germany['date'].iloc[-1], periods=len_predictions)\n",
    "df_new = pd.DataFrame(dates_new[1:], columns=['date'])\n",
    "germany = germany.append(df_new, ignore_index=True)\n",
    "germany['date_string'] = germany['date'].dt.strftime('%d. %b')"
   ]
  },
  {
   "cell_type": "code",
   "execution_count": 4,
   "metadata": {},
   "outputs": [
    {
     "name": "stderr",
     "output_type": "stream",
     "text": [
      "/miniconda/lib/python3.7/site-packages/scipy/optimize/minpack.py:808: OptimizeWarning: Covariance of the parameters could not be estimated\n",
      "  category=OptimizeWarning)\n"
     ]
    }
   ],
   "source": [
    "# prepare machine learning magic\n",
    "y = germany.iloc[len_before_start:]['confirmed'].dropna()\n",
    "x = list(range(len(y)))\n",
    "# machine learning magic\n",
    "from scipy.optimize import curve_fit\n",
    "def func(x, a, b, c, d):\n",
    "    return c**x + d\n",
    "popt, pcov = curve_fit(func, x, y)"
   ]
  },
  {
   "cell_type": "code",
   "execution_count": 5,
   "metadata": {},
   "outputs": [],
   "source": [
    "# get x values from predictor\n",
    "predict = []\n",
    "for i in range(len_after_start+len_predictions):\n",
    "    predict.append(func(i, *popt))\n",
    "germany = germany.join(pd.DataFrame(enumerate(predict, len_before_start), columns=['id', 'predict']).set_index('id'))    "
   ]
  },
  {
   "cell_type": "code",
   "execution_count": 6,
   "metadata": {},
   "outputs": [],
   "source": [
    "# predict deaths based on prediction of cases and death rate (see top)\n",
    "germany['predict_deaths'] = germany['predict'] * death_rate"
   ]
  },
  {
   "cell_type": "code",
   "execution_count": null,
   "metadata": {},
   "outputs": [],
   "source": [
    "import matplotlib.pyplot as plt\n",
    "import matplotlib.ticker\n",
    "format_y = matplotlib.ticker.FuncFormatter(lambda x, p: format(int(x), ','))\n",
    "x = list(germany['date_string'])\n",
    "%matplotlib inline\n",
    "fig = plt.figure(figsize=(15,10))\n",
    "ax1 = fig.add_subplot(2,1,1)\n",
    "ax1.grid(True)\n",
    "ax1.plot(germany['date_string'], germany['confirmed'], marker='x', color='gray')\n",
    "ax1.plot(germany['date_string'], germany['deaths'], marker='X', color='red')\n",
    "ax1.plot(germany['date_string'], germany['recovered'], marker='X', color='green')\n",
    "ax1.plot(germany.iloc[len_before_start:]['date_string'], germany.iloc[len_before_start:]['confirmed'], marker='X', color='black')\n",
    "ax1.plot(germany['date_string'], germany['recovered'], marker='X', color='green')\n",
    "ax1.plot(germany['date_string'], germany['predict'], marker='o', color='blue')\n",
    "ax1.plot(germany['date_string'], germany['predict_deaths'], marker='o', color='orange')\n",
    "ax1.set_xticklabels([])\n",
    "ax1.set_yscale('log')\n",
    "ax1.yaxis.set_major_formatter(format_y)\n",
    "ax2 = fig.add_subplot(2,1,2)\n",
    "ax2.grid(True)\n",
    "ax2.plot(germany['date_string'], germany['confirmed'], marker='x', color='gray')\n",
    "ax2.plot(germany['date_string'], germany['deaths'], marker='X', color='red')\n",
    "ax2.plot(germany['date_string'], germany['recovered'], marker='X', color='green')\n",
    "ax2.plot(germany.iloc[len_before_start:]['date_string'], germany.iloc[len_before_start:]['confirmed'], marker='X', color='black')\n",
    "ax2.plot(germany['date_string'], germany['recovered'], marker='X', color='green')\n",
    "ax2.plot(germany['date_string'], germany['predict'], marker='o', color='blue')\n",
    "ax2.plot(germany['date_string'], germany['predict_deaths'], marker='o', color='orange')\n",
    "ax2.set_xticklabels(labels=germany['date_string'], rotation=45)\n",
    "ax2.yaxis.set_major_formatter(format_y)\n",
    "for label in ax2.xaxis.get_ticklabels()[::2]:\n",
    "    label.set_visible(False)"
   ]
  },
  {
   "cell_type": "code",
   "execution_count": null,
   "metadata": {},
   "outputs": [],
   "source": [
    "germany.iloc[-len_predictions:]"
   ]
  }
 ],
 "metadata": {
  "kernelspec": {
   "display_name": "Python 3",
   "language": "python",
   "name": "python3"
  },
  "language_info": {
   "codemirror_mode": {
    "name": "ipython",
    "version": 3
   },
   "file_extension": ".py",
   "mimetype": "text/x-python",
   "name": "python",
   "nbconvert_exporter": "python",
   "pygments_lexer": "ipython3",
   "version": "3.7.0"
  }
 },
 "nbformat": 4,
 "nbformat_minor": 4
}
