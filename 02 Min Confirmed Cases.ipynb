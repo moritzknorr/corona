{
 "cells": [
  {
   "cell_type": "code",
   "execution_count": 1,
   "metadata": {},
   "outputs": [
    {
     "name": "stdout",
     "output_type": "stream",
     "text": [
      "Last data for germany: 2020-03-25 18:15:35\n"
     ]
    }
   ],
   "source": [
    "%run ./'01 load.ipynb'"
   ]
  },
  {
   "cell_type": "code",
   "execution_count": 2,
   "metadata": {},
   "outputs": [],
   "source": [
    "cases_min = 5000\n",
    "cases_plot = 100"
   ]
  },
  {
   "cell_type": "code",
   "execution_count": 3,
   "metadata": {},
   "outputs": [],
   "source": [
    "countries = df.groupby('country').max().reset_index().set_index('country').drop(['deaths', 'recovered'], axis=1)\n",
    "countries = countries.sort_values(by='confirmed', ascending=False)\n",
    "countries = countries[countries['confirmed'] >= cases_min]"
   ]
  },
  {
   "cell_type": "code",
   "execution_count": 4,
   "metadata": {},
   "outputs": [
    {
     "name": "stderr",
     "output_type": "stream",
     "text": [
      "/miniconda/lib/python3.7/site-packages/ipykernel_launcher.py:4: SettingWithCopyWarning: \n",
      "A value is trying to be set on a copy of a slice from a DataFrame.\n",
      "Try using .loc[row_indexer,col_indexer] = value instead\n",
      "\n",
      "See the caveats in the documentation: https://pandas.pydata.org/pandas-docs/stable/user_guide/indexing.html#returning-a-view-versus-a-copy\n",
      "  after removing the cwd from sys.path.\n"
     ]
    }
   ],
   "source": [
    "country_data = {}\n",
    "for country in countries.index:\n",
    "    country_data[country] = df[(df['country'] == country) & (df['confirmed'] >= cases_plot)]\n",
    "    country_data[country]['confirmed_new'] = country_data[country][['confirmed']].diff().fillna(0)\n",
    "    country_data[country] = country_data[country].reset_index()"
   ]
  },
  {
   "cell_type": "code",
   "execution_count": null,
   "metadata": {},
   "outputs": [
    {
     "data": {
      "text/plain": [
       "<matplotlib.legend.Legend at 0x7f79fdadf2b0>"
      ]
     },
     "execution_count": 12,
     "metadata": {},
     "output_type": "execute_result"
    }
   ],
   "source": [
    "%matplotlib inline\n",
    "import matplotlib.pyplot as plt\n",
    "plt.style.use('fivethirtyeight')\n",
    "fig = plt.figure(figsize=(15, 10))\n",
    "fig.tight_layout()\n",
    "ax1 = fig.add_subplot(2,1,1)\n",
    "ax2 = fig.add_subplot(2,1,2)\n",
    "ax2.set_yscale('log')\n",
    "for country in countries.index:\n",
    "    ax1.plot(range(len(country_data[country]))[:28], country_data[country]['confirmed'][:28])\n",
    "    ax2.plot(range(len(country_data[country]))[:28], country_data[country]['confirmed'][:28])\n",
    "ax1.legend(list(countries.index), loc='upper left')"
   ]
  }
 ],
 "metadata": {
  "kernelspec": {
   "display_name": "Python 3",
   "language": "python",
   "name": "python3"
  },
  "language_info": {
   "codemirror_mode": {
    "name": "ipython",
    "version": 3
   },
   "file_extension": ".py",
   "mimetype": "text/x-python",
   "name": "python",
   "nbconvert_exporter": "python",
   "pygments_lexer": "ipython3",
   "version": "3.7.0"
  }
 },
 "nbformat": 4,
 "nbformat_minor": 4
}
