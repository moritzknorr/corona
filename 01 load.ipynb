{
 "cells": [
  {
   "cell_type": "code",
   "execution_count": 10,
   "metadata": {},
   "outputs": [],
   "source": [
    "import pandas as pd\n",
    "pd.options.display.float_format = '{0:,.0f}'.format\n",
    "pd.options.display.max_rows = 20\n",
    "pd.options.display.max_rows = 100"
   ]
  },
  {
   "cell_type": "code",
   "execution_count": 2,
   "metadata": {},
   "outputs": [],
   "source": [
    "# John Hopkins Source\n",
    "# https://github.com/CSSEGISandData/COVID-19/tree/master/csse_covid_19_data/csse_covid_19_time_series\n",
    "# git submodule foreach git pull origin master\n",
    "source = 'COVID-19/csse_covid_19_data/csse_covid_19_time_series/'\n",
    "files = {\n",
    "    'confirmed': 'time_series_19-covid-Confirmed.csv',\n",
    "    'deaths': 'time_series_19-covid-Deaths.csv',\n",
    "    'recovered': 'time_series_19-covid-Recovered.csv'\n",
    "}"
   ]
  },
  {
   "cell_type": "code",
   "execution_count": 3,
   "metadata": {},
   "outputs": [],
   "source": [
    "# https://data.humdata.org/dataset/novel-coronavirus-2019-ncov-cases\n",
    "# source = 'data/'\n",
    "# files = {\n",
    "#     'confirmed': 'time_series_2019-ncov-Confirmed.csv',\n",
    "#     'deaths': 'time_series_2019-ncov-Deaths.csv',\n",
    "#     'recovered': 'time_series_2019-ncov-Recovered.csv'\n",
    "# }"
   ]
  },
  {
   "cell_type": "code",
   "execution_count": 4,
   "metadata": {},
   "outputs": [],
   "source": [
    "# load all three dataframes\n",
    "source_df = {}\n",
    "for key, file in files.items():\n",
    "    source_df[key] = pd.read_csv(source+file) \\\n",
    "        .drop(['Lat', 'Long', 'Province/State'], axis=1) \\\n",
    "        .melt(id_vars=['Country/Region']) \\\n",
    "        .groupby(['Country/Region', 'variable']).sum() \\\n",
    "        .reset_index() \\\n",
    "        .set_index(['Country/Region', 'variable'])"
   ]
  },
  {
   "cell_type": "code",
   "execution_count": 5,
   "metadata": {},
   "outputs": [],
   "source": [
    "# join datasets\n",
    "df = source_df['confirmed']. \\\n",
    "    join(source_df['deaths'], rsuffix='_deaths'). \\\n",
    "    join(source_df['recovered'], rsuffix='_recovered'). \\\n",
    "    reset_index()"
   ]
  },
  {
   "cell_type": "code",
   "execution_count": 6,
   "metadata": {},
   "outputs": [],
   "source": [
    "# set column names\n",
    "df.columns = ['country', 'date_string', 'confirmed', 'deaths', 'recovered']"
   ]
  },
  {
   "cell_type": "code",
   "execution_count": 7,
   "metadata": {},
   "outputs": [],
   "source": [
    "# parse date\n",
    "df['date'] = pd.to_datetime(df['date_string'])"
   ]
  },
  {
   "cell_type": "code",
   "execution_count": 8,
   "metadata": {},
   "outputs": [],
   "source": [
    "# sort by date\n",
    "df = df.sort_values(by=['date', 'country'])"
   ]
  },
  {
   "cell_type": "code",
   "execution_count": 9,
   "metadata": {},
   "outputs": [],
   "source": [
    "# add date string\n",
    "df['date_string'] = df['date'].dt.strftime('%d. %b')"
   ]
  },
  {
   "cell_type": "code",
   "execution_count": 21,
   "metadata": {},
   "outputs": [
    {
     "name": "stdout",
     "output_type": "stream",
     "text": [
      "Last data for germany: 2020-03-20 00:00:00\n"
     ]
    }
   ],
   "source": [
    "print('Last data for germany:', df[df['country'] == 'Germany']['date'].max())"
   ]
  }
 ],
 "metadata": {
  "kernelspec": {
   "display_name": "Python 3",
   "language": "python",
   "name": "python3"
  },
  "language_info": {
   "codemirror_mode": {
    "name": "ipython",
    "version": 3
   },
   "file_extension": ".py",
   "mimetype": "text/x-python",
   "name": "python",
   "nbconvert_exporter": "python",
   "pygments_lexer": "ipython3",
   "version": "3.7.0"
  }
 },
 "nbformat": 4,
 "nbformat_minor": 4
}
