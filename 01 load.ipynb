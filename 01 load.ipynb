{
 "cells": [
  {
   "cell_type": "code",
   "execution_count": 1,
   "metadata": {},
   "outputs": [],
   "source": [
    "import pandas as pd\n",
    "pd.options.display.float_format = '{0:,.0f}'.format"
   ]
  },
  {
   "cell_type": "code",
   "execution_count": 2,
   "metadata": {},
   "outputs": [],
   "source": [
    "# John Hopkins Source\n",
    "# source = 'COVID-19/csse_covid_19_data/csse_covid_19_time_series/'\n",
    "# files = {\n",
    "#     'confirmed': 'time_series_19-covid-Confirmed.csv',\n",
    "#     'deaths': 'time_series_19-covid-Deaths.csv',\n",
    "#     'recovered': 'time_series_19-covid-Recovered.csv'\n",
    "# }"
   ]
  },
  {
   "cell_type": "code",
   "execution_count": null,
   "metadata": {},
   "outputs": [],
   "source": [
    "# https://data.humdata.org/dataset/novel-coronavirus-2019-ncov-cases\n",
    "source = 'data/'\n",
    "files = {\n",
    "    'confirmed': 'time_series_2019-ncov-Confirmed.csv',\n",
    "    'deaths': 'time_series_2019-ncov-Deaths.csv',\n",
    "    'recovered': 'time_series_2019-ncov-Recovered.csv'\n",
    "}"
   ]
  },
  {
   "cell_type": "code",
   "execution_count": 3,
   "metadata": {},
   "outputs": [],
   "source": [
    "# load all three dataframes\n",
    "source_df = {}\n",
    "for key, file in files.items():\n",
    "    source_df[key] = pd.read_csv(source+file) \\\n",
    "        .drop(['Lat', 'Long', 'Province/State'], axis=1) \\\n",
    "        .melt(id_vars=['Country/Region']) \\\n",
    "        .groupby(['Country/Region', 'variable']).sum() \\\n",
    "        .reset_index() \\\n",
    "        .set_index(['Country/Region', 'variable'])"
   ]
  },
  {
   "cell_type": "code",
   "execution_count": 4,
   "metadata": {},
   "outputs": [],
   "source": [
    "# join datasets\n",
    "df = source_df['confirmed']. \\\n",
    "    join(source_df['deaths'], rsuffix='_deaths'). \\\n",
    "    join(source_df['recovered'], rsuffix='_recovered'). \\\n",
    "    reset_index()"
   ]
  },
  {
   "cell_type": "code",
   "execution_count": 5,
   "metadata": {},
   "outputs": [],
   "source": [
    "# set column names\n",
    "df.columns = ['country', 'date_string', 'confirmed', 'deaths', 'recovered']"
   ]
  },
  {
   "cell_type": "code",
   "execution_count": 6,
   "metadata": {},
   "outputs": [],
   "source": [
    "# parse date\n",
    "df['date'] = pd.to_datetime(df['date_string'])"
   ]
  },
  {
   "cell_type": "code",
   "execution_count": 7,
   "metadata": {},
   "outputs": [],
   "source": [
    "# sort by date\n",
    "df = df.sort_values(by=['date', 'country'])"
   ]
  }
 ],
 "metadata": {
  "kernelspec": {
   "display_name": "Python 3",
   "language": "python",
   "name": "python3"
  },
  "language_info": {
   "codemirror_mode": {
    "name": "ipython",
    "version": 3
   },
   "file_extension": ".py",
   "mimetype": "text/x-python",
   "name": "python",
   "nbconvert_exporter": "python",
   "pygments_lexer": "ipython3",
   "version": "3.7.0"
  }
 },
 "nbformat": 4,
 "nbformat_minor": 4
}
