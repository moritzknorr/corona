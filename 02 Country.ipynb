{
 "cells": [
  {
   "cell_type": "code",
   "execution_count": 1,
   "metadata": {},
   "outputs": [
    {
     "name": "stdout",
     "output_type": "stream",
     "text": [
      "Last data for germany: 2020-03-26 09:09:25\n"
     ]
    }
   ],
   "source": [
    "%run ./'01 load.ipynb'"
   ]
  },
  {
   "cell_type": "code",
   "execution_count": 2,
   "metadata": {},
   "outputs": [],
   "source": [
    "country = 'Germany'"
   ]
  },
  {
   "cell_type": "code",
   "execution_count": 3,
   "metadata": {},
   "outputs": [],
   "source": [
    "df = df[df['country'] == country]"
   ]
  },
  {
   "cell_type": "code",
   "execution_count": 4,
   "metadata": {},
   "outputs": [],
   "source": [
    "df['growth'] = df['confirmed'].diff().fillna(0)"
   ]
  },
  {
   "cell_type": "code",
   "execution_count": 5,
   "metadata": {},
   "outputs": [],
   "source": [
    "curr = df.tail(1)['date'].dt.strftime('%d. %b, %H:%M Uhr').values[0]"
   ]
  },
  {
   "cell_type": "code",
   "execution_count": 6,
   "metadata": {},
   "outputs": [
    {
     "data": {
      "text/html": [
       "<div>\n",
       "<style scoped>\n",
       "    .dataframe tbody tr th:only-of-type {\n",
       "        vertical-align: middle;\n",
       "    }\n",
       "\n",
       "    .dataframe tbody tr th {\n",
       "        vertical-align: top;\n",
       "    }\n",
       "\n",
       "    .dataframe thead th {\n",
       "        text-align: right;\n",
       "    }\n",
       "</style>\n",
       "<table border=\"1\" class=\"dataframe\">\n",
       "  <thead>\n",
       "    <tr style=\"text-align: right;\">\n",
       "      <th></th>\n",
       "      <th>index</th>\n",
       "      <th>country</th>\n",
       "      <th>confirmed</th>\n",
       "      <th>deaths</th>\n",
       "      <th>recovered</th>\n",
       "      <th>active</th>\n",
       "      <th>date</th>\n",
       "      <th>date_string</th>\n",
       "      <th>growth</th>\n",
       "    </tr>\n",
       "  </thead>\n",
       "  <tbody>\n",
       "    <tr>\n",
       "      <th>4090</th>\n",
       "      <td>4028</td>\n",
       "      <td>Germany</td>\n",
       "      <td>24873</td>\n",
       "      <td>94</td>\n",
       "      <td>0</td>\n",
       "      <td>0</td>\n",
       "      <td>2020-03-22 23:59:59</td>\n",
       "      <td>22. Mar</td>\n",
       "      <td>2,660</td>\n",
       "    </tr>\n",
       "    <tr>\n",
       "      <th>4091</th>\n",
       "      <td>4029</td>\n",
       "      <td>Germany</td>\n",
       "      <td>29056</td>\n",
       "      <td>123</td>\n",
       "      <td>0</td>\n",
       "      <td>0</td>\n",
       "      <td>2020-03-23 23:59:59</td>\n",
       "      <td>23. Mar</td>\n",
       "      <td>4,183</td>\n",
       "    </tr>\n",
       "    <tr>\n",
       "      <th>4092</th>\n",
       "      <td>4030</td>\n",
       "      <td>Germany</td>\n",
       "      <td>32986</td>\n",
       "      <td>157</td>\n",
       "      <td>0</td>\n",
       "      <td>0</td>\n",
       "      <td>2020-03-24 23:59:59</td>\n",
       "      <td>24. Mar</td>\n",
       "      <td>3,930</td>\n",
       "    </tr>\n",
       "    <tr>\n",
       "      <th>4093</th>\n",
       "      <td>4031</td>\n",
       "      <td>Germany</td>\n",
       "      <td>37323</td>\n",
       "      <td>206</td>\n",
       "      <td>0</td>\n",
       "      <td>0</td>\n",
       "      <td>2020-03-25 23:59:59</td>\n",
       "      <td>25. Mar</td>\n",
       "      <td>4,337</td>\n",
       "    </tr>\n",
       "    <tr>\n",
       "      <th>4094</th>\n",
       "      <td>7</td>\n",
       "      <td>Germany</td>\n",
       "      <td>37323</td>\n",
       "      <td>206</td>\n",
       "      <td>3,547</td>\n",
       "      <td>33,570</td>\n",
       "      <td>2020-03-26 09:09:25</td>\n",
       "      <td>26. Mar</td>\n",
       "      <td>0</td>\n",
       "    </tr>\n",
       "  </tbody>\n",
       "</table>\n",
       "</div>"
      ],
      "text/plain": [
       "      index  country  confirmed  deaths  recovered  active  \\\n",
       "4090   4028  Germany      24873      94          0       0   \n",
       "4091   4029  Germany      29056     123          0       0   \n",
       "4092   4030  Germany      32986     157          0       0   \n",
       "4093   4031  Germany      37323     206          0       0   \n",
       "4094      7  Germany      37323     206      3,547  33,570   \n",
       "\n",
       "                    date date_string  growth  \n",
       "4090 2020-03-22 23:59:59     22. Mar   2,660  \n",
       "4091 2020-03-23 23:59:59     23. Mar   4,183  \n",
       "4092 2020-03-24 23:59:59     24. Mar   3,930  \n",
       "4093 2020-03-25 23:59:59     25. Mar   4,337  \n",
       "4094 2020-03-26 09:09:25     26. Mar       0  "
      ]
     },
     "execution_count": 6,
     "metadata": {},
     "output_type": "execute_result"
    }
   ],
   "source": [
    "# Newest data\n",
    "df.tail(5)"
   ]
  },
  {
   "cell_type": "code",
   "execution_count": 7,
   "metadata": {},
   "outputs": [],
   "source": [
    "# Load predictions from 18th march\n",
    "prediction = pd.read_csv('20200318 Predict Corona - Sheet1.csv')\n",
    "prediction['predict'] = prediction['predict'].str.replace(',','').astype('str')\n",
    "prediction['date'] = prediction['date'] + ' 23:59:59'\n",
    "prediction['date'] = pd.to_datetime(prediction['date'])\n",
    "prediction['date_string'] = prediction['date'].dt.strftime('%d. %b')"
   ]
  },
  {
   "cell_type": "code",
   "execution_count": 8,
   "metadata": {},
   "outputs": [],
   "source": [
    "df = pd.merge(left=df, right=prediction[['date', 'predict']], on='date', how='left')"
   ]
  },
  {
   "cell_type": "code",
   "execution_count": null,
   "metadata": {},
   "outputs": [],
   "source": [
    "%matplotlib inline\n",
    "import matplotlib.pyplot as plt\n",
    "plt.style.use('fivethirtyeight')\n",
    "fig = plt.figure(figsize=(10,5))\n",
    "ax1 = fig.add_subplot(1,1,1)\n",
    "ax1.grid(True)\n",
    "ax1.set_yscale('log')\n",
    "ax1.plot(df['date_string'][:-1], df['confirmed'][:-1], color = 'blue', linewidth=4)\n",
    "ax1.plot(df['date_string'][-2:], df['confirmed'][-2:], color = 'blue', linewidth=1)\n",
    "ax1.plot(df['date_string'], df['predict'], color = 'red', linewidth=2)\n",
    "ax2 = ax1.twinx()\n",
    "ax2.plot(df['date_string'][:-1], df['confirmed'][:-1], color = 'green', linewidth=4)\n",
    "ax2.plot(df['date_string'][-2:], df['confirmed'][-2:], color = 'green', linewidth=1)\n",
    "ax2.plot(df['date_string'], df['predict'], color = 'red', linewidth=2)\n",
    "ax2.plot(df['date_string'][:-1], df['growth'][:-1], color = 'orange', linewidth=4)\n",
    "ax2.plot(df['date_string'][-2:], df['growth'][-2:], color = 'orange', linewidth=1)\n",
    "fig.legend([\n",
    "    'Bestätigte Fälle (log)',\n",
    "    'Bestätigte Fälle (log) / ' + curr,\n",
    "    'Vorhersage vom 18.03. (log)',\n",
    "    'Bestätigte Fälle (abs)',\n",
    "    'Bestätigte Fälle (abs) / ' + curr,\n",
    "    'Vorhersage vom 18.03. (abs)',\n",
    "    'Zuwachs',\n",
    "    'Zuwachs / ' + curr], loc='upper left')\n",
    "ax1.set_xticklabels(labels=df['date_string'], rotation=45)\n",
    "labels = ax1.xaxis.get_ticklabels()\n",
    "for label in labels:\n",
    "    label.set_visible(False)\n",
    "for label in labels[::7]:\n",
    "    label.set_visible(True)\n",
    "fig.tight_layout()\n",
    "fig.show()"
   ]
  }
 ],
 "metadata": {
  "kernelspec": {
   "display_name": "Python 3",
   "language": "python",
   "name": "python3"
  },
  "language_info": {
   "codemirror_mode": {
    "name": "ipython",
    "version": 3
   },
   "file_extension": ".py",
   "mimetype": "text/x-python",
   "name": "python",
   "nbconvert_exporter": "python",
   "pygments_lexer": "ipython3",
   "version": "3.7.0"
  }
 },
 "nbformat": 4,
 "nbformat_minor": 4
}
