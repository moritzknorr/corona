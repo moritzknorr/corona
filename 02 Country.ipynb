{
 "cells": [
  {
   "cell_type": "code",
   "execution_count": 1,
   "metadata": {},
   "outputs": [
    {
     "name": "stdout",
     "output_type": "stream",
     "text": [
      "Last data for germany: 2020-04-04 18:52:06\n"
     ]
    }
   ],
   "source": [
    "%run ./'01 load.ipynb'"
   ]
  },
  {
   "cell_type": "code",
   "execution_count": 2,
   "metadata": {},
   "outputs": [],
   "source": [
    "country = 'Germany'"
   ]
  },
  {
   "cell_type": "code",
   "execution_count": 3,
   "metadata": {},
   "outputs": [],
   "source": [
    "df = df[df['country'] == country]"
   ]
  },
  {
   "cell_type": "code",
   "execution_count": 4,
   "metadata": {},
   "outputs": [],
   "source": [
    "df['growth'] = df['confirmed'].diff().fillna(0)"
   ]
  },
  {
   "cell_type": "code",
   "execution_count": 5,
   "metadata": {},
   "outputs": [],
   "source": [
    "curr = df.tail(1)['date'].dt.strftime('%d. %b, %H:%M Uhr').values[0]"
   ]
  },
  {
   "cell_type": "code",
   "execution_count": 6,
   "metadata": {},
   "outputs": [
    {
     "data": {
      "text/html": [
       "<div>\n",
       "<style scoped>\n",
       "    .dataframe tbody tr th:only-of-type {\n",
       "        vertical-align: middle;\n",
       "    }\n",
       "\n",
       "    .dataframe tbody tr th {\n",
       "        vertical-align: top;\n",
       "    }\n",
       "\n",
       "    .dataframe thead th {\n",
       "        text-align: right;\n",
       "    }\n",
       "</style>\n",
       "<table border=\"1\" class=\"dataframe\">\n",
       "  <thead>\n",
       "    <tr style=\"text-align: right;\">\n",
       "      <th></th>\n",
       "      <th>date</th>\n",
       "      <th>date_string</th>\n",
       "      <th>country</th>\n",
       "      <th>confirmed</th>\n",
       "      <th>active</th>\n",
       "      <th>deaths</th>\n",
       "      <th>recovered</th>\n",
       "      <th>growth</th>\n",
       "    </tr>\n",
       "  </thead>\n",
       "  <tbody>\n",
       "    <tr>\n",
       "      <th>4874</th>\n",
       "      <td>2020-03-26 23:59:59</td>\n",
       "      <td>26. Mar</td>\n",
       "      <td>Germany</td>\n",
       "      <td>43,938</td>\n",
       "      <td>0</td>\n",
       "      <td>267</td>\n",
       "      <td>0</td>\n",
       "      <td>6,615</td>\n",
       "    </tr>\n",
       "    <tr>\n",
       "      <th>4875</th>\n",
       "      <td>2020-03-27 23:59:59</td>\n",
       "      <td>27. Mar</td>\n",
       "      <td>Germany</td>\n",
       "      <td>50,871</td>\n",
       "      <td>0</td>\n",
       "      <td>342</td>\n",
       "      <td>0</td>\n",
       "      <td>6,933</td>\n",
       "    </tr>\n",
       "    <tr>\n",
       "      <th>4876</th>\n",
       "      <td>2020-03-28 23:59:59</td>\n",
       "      <td>28. Mar</td>\n",
       "      <td>Germany</td>\n",
       "      <td>57,695</td>\n",
       "      <td>0</td>\n",
       "      <td>433</td>\n",
       "      <td>0</td>\n",
       "      <td>6,824</td>\n",
       "    </tr>\n",
       "    <tr>\n",
       "      <th>4877</th>\n",
       "      <td>2020-03-29 23:59:59</td>\n",
       "      <td>29. Mar</td>\n",
       "      <td>Germany</td>\n",
       "      <td>62,095</td>\n",
       "      <td>0</td>\n",
       "      <td>533</td>\n",
       "      <td>0</td>\n",
       "      <td>4,400</td>\n",
       "    </tr>\n",
       "    <tr>\n",
       "      <th>4878</th>\n",
       "      <td>2020-03-30 23:59:59</td>\n",
       "      <td>30. Mar</td>\n",
       "      <td>Germany</td>\n",
       "      <td>66,885</td>\n",
       "      <td>0</td>\n",
       "      <td>645</td>\n",
       "      <td>0</td>\n",
       "      <td>4,790</td>\n",
       "    </tr>\n",
       "    <tr>\n",
       "      <th>4879</th>\n",
       "      <td>2020-03-31 23:59:59</td>\n",
       "      <td>31. Mar</td>\n",
       "      <td>Germany</td>\n",
       "      <td>71,808</td>\n",
       "      <td>0</td>\n",
       "      <td>775</td>\n",
       "      <td>0</td>\n",
       "      <td>4,923</td>\n",
       "    </tr>\n",
       "    <tr>\n",
       "      <th>4880</th>\n",
       "      <td>2020-04-01 23:59:59</td>\n",
       "      <td>01. Apr</td>\n",
       "      <td>Germany</td>\n",
       "      <td>77,872</td>\n",
       "      <td>0</td>\n",
       "      <td>920</td>\n",
       "      <td>0</td>\n",
       "      <td>6,064</td>\n",
       "    </tr>\n",
       "    <tr>\n",
       "      <th>4881</th>\n",
       "      <td>2020-04-02 23:59:59</td>\n",
       "      <td>02. Apr</td>\n",
       "      <td>Germany</td>\n",
       "      <td>84,794</td>\n",
       "      <td>0</td>\n",
       "      <td>1,107</td>\n",
       "      <td>0</td>\n",
       "      <td>6,922</td>\n",
       "    </tr>\n",
       "    <tr>\n",
       "      <th>4882</th>\n",
       "      <td>2020-04-03 23:59:59</td>\n",
       "      <td>03. Apr</td>\n",
       "      <td>Germany</td>\n",
       "      <td>91,159</td>\n",
       "      <td>0</td>\n",
       "      <td>1,275</td>\n",
       "      <td>0</td>\n",
       "      <td>6,365</td>\n",
       "    </tr>\n",
       "    <tr>\n",
       "      <th>4883</th>\n",
       "      <td>2020-04-04 18:52:06</td>\n",
       "      <td>04. Apr</td>\n",
       "      <td>Germany</td>\n",
       "      <td>92,150</td>\n",
       "      <td>64,420</td>\n",
       "      <td>1,330</td>\n",
       "      <td>26,400</td>\n",
       "      <td>991</td>\n",
       "    </tr>\n",
       "  </tbody>\n",
       "</table>\n",
       "</div>"
      ],
      "text/plain": [
       "                    date date_string  country  confirmed  active  deaths  \\\n",
       "4874 2020-03-26 23:59:59     26. Mar  Germany     43,938       0     267   \n",
       "4875 2020-03-27 23:59:59     27. Mar  Germany     50,871       0     342   \n",
       "4876 2020-03-28 23:59:59     28. Mar  Germany     57,695       0     433   \n",
       "4877 2020-03-29 23:59:59     29. Mar  Germany     62,095       0     533   \n",
       "4878 2020-03-30 23:59:59     30. Mar  Germany     66,885       0     645   \n",
       "4879 2020-03-31 23:59:59     31. Mar  Germany     71,808       0     775   \n",
       "4880 2020-04-01 23:59:59     01. Apr  Germany     77,872       0     920   \n",
       "4881 2020-04-02 23:59:59     02. Apr  Germany     84,794       0   1,107   \n",
       "4882 2020-04-03 23:59:59     03. Apr  Germany     91,159       0   1,275   \n",
       "4883 2020-04-04 18:52:06     04. Apr  Germany     92,150  64,420   1,330   \n",
       "\n",
       "      recovered  growth  \n",
       "4874          0   6,615  \n",
       "4875          0   6,933  \n",
       "4876          0   6,824  \n",
       "4877          0   4,400  \n",
       "4878          0   4,790  \n",
       "4879          0   4,923  \n",
       "4880          0   6,064  \n",
       "4881          0   6,922  \n",
       "4882          0   6,365  \n",
       "4883     26,400     991  "
      ]
     },
     "execution_count": 6,
     "metadata": {},
     "output_type": "execute_result"
    }
   ],
   "source": [
    "# Newest data\n",
    "df.tail(10)"
   ]
  },
  {
   "cell_type": "code",
   "execution_count": 7,
   "metadata": {},
   "outputs": [],
   "source": [
    "# Load predictions from 18th march\n",
    "prediction = pd.read_csv('20200318 Predict Corona - Sheet1.csv')\n",
    "prediction['predict'] = prediction['predict'].str.replace(',','').astype('str')\n",
    "prediction['date'] = prediction['date'] + ' 23:59:59'\n",
    "prediction['date'] = pd.to_datetime(prediction['date'])\n",
    "prediction['date_string'] = prediction['date'].dt.strftime('%d. %b')"
   ]
  },
  {
   "cell_type": "code",
   "execution_count": 8,
   "metadata": {},
   "outputs": [],
   "source": [
    "df = pd.merge(left=df, right=prediction[['date', 'predict']], on='date', how='left')"
   ]
  },
  {
   "cell_type": "code",
   "execution_count": null,
   "metadata": {},
   "outputs": [],
   "source": [
    "%matplotlib inline\n",
    "import matplotlib.pyplot as plt\n",
    "plt.style.use('fivethirtyeight')\n",
    "fig = plt.figure(figsize=(10,5))\n",
    "ax1 = fig.add_subplot(1,1,1)\n",
    "ax1.grid(True)\n",
    "ax1.set_yscale('log')\n",
    "ax1.plot(df['date_string'][:-1], df['confirmed'][:-1], color = 'blue', linewidth=4)\n",
    "ax1.plot(df['date_string'][-2:], df['confirmed'][-2:], color = 'blue', linewidth=1)\n",
    "ax1.plot(df['date_string'], df['predict'], color = 'red', linewidth=2)\n",
    "ax2 = ax1.twinx()\n",
    "ax2.plot(df['date_string'][:-1], df['confirmed'][:-1], color = 'green', linewidth=4)\n",
    "ax2.plot(df['date_string'][-2:], df['confirmed'][-2:], color = 'green', linewidth=1)\n",
    "ax2.plot(df['date_string'], df['predict'], color = 'red', linewidth=2)\n",
    "ax2.plot(df['date_string'][:-1], df['growth'][:-1], color = 'orange', linewidth=4)\n",
    "ax2.plot(df['date_string'][-2:], df['growth'][-2:], color = 'orange', linewidth=1)\n",
    "fig.legend([\n",
    "    'Bestätigte Fälle (log)',\n",
    "    'Bestätigte Fälle (log) / ' + curr,\n",
    "    'Vorhersage vom 18.03. (log)',\n",
    "    'Bestätigte Fälle (abs)',\n",
    "    'Bestätigte Fälle (abs) / ' + curr,\n",
    "    'Vorhersage vom 18.03. (abs)',\n",
    "    'Zuwachs',\n",
    "    'Zuwachs / ' + curr], loc='upper left')\n",
    "ax1.set_xticklabels(labels=df['date_string'], rotation=45)\n",
    "labels = ax1.xaxis.get_ticklabels()\n",
    "for label in labels:\n",
    "    label.set_visible(False)\n",
    "for label in labels[::7]:\n",
    "    label.set_visible(True)\n",
    "fig.tight_layout()\n",
    "fig.show()"
   ]
  }
 ],
 "metadata": {
  "kernelspec": {
   "display_name": "Python 3",
   "language": "python",
   "name": "python3"
  },
  "language_info": {
   "codemirror_mode": {
    "name": "ipython",
    "version": 3
   },
   "file_extension": ".py",
   "mimetype": "text/x-python",
   "name": "python",
   "nbconvert_exporter": "python",
   "pygments_lexer": "ipython3",
   "version": "3.7.0"
  }
 },
 "nbformat": 4,
 "nbformat_minor": 4
}
